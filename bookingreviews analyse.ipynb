{
 "cells": [
  {
   "cell_type": "code",
   "execution_count": 23,
   "id": "b5858673",
   "metadata": {},
   "outputs": [],
   "source": [
    "from sentence_transformers import SentenceTransformer\n",
    "from sklearn.decomposition import PCA\n",
    "from tslearn.clustering import silhouette_score\n",
    "from sklearn.cluster import KMeans\n",
    "from tqdm import tqdm\n",
    "import pandas as pd\n",
    "import numpy as np\n",
    "\n",
    "reviews = pd.read_excel('bookings reviews.xlsx')\n",
    "reviews['date'] = pd.to_datetime(reviews['date'])\n",
    "reviews = reviews.sort_values(by='date').reset_index(drop=True)\n",
    "residences = reviews['property_name'].value_counts().index.to_list()\n",
    "\n",
    "def get_sma_ratings(res):\n",
    "    res_df = reviews.copy()\n",
    "    res_df = res_df[res_df['property_name']==res]\n",
    "    notes = res_df.copy().iloc[:,-9:]\n",
    "    notes.index = res_df.copy()['date']\n",
    "    notes = notes[['Value for money','Cleanliness','Facilities','Location','Comfort', 'Staff']].dropna()\n",
    "    daily_mean = notes.resample('D').mean().dropna()\n",
    "    smoothed = daily_mean.rolling(window=30).mean()\n",
    "    smoothed['residence'] = res\n",
    "    return smoothed\n",
    "\n",
    "df = pd.DataFrame()\n",
    "for res in residences:\n",
    "    df = pd.concat([df,get_sma_ratings(res)], axis=0)\n",
    "df = df.dropna()"
   ]
  },
  {
   "cell_type": "code",
   "execution_count": 24,
   "id": "df516d6c",
   "metadata": {},
   "outputs": [],
   "source": [
    "corpus = reviews['review_text_negative'].dropna().to_list()\n",
    "pos_hypotheses = [\n",
    "    \"Ce commentaire valorise explicitement la propreté de l'appartement\",\n",
    "    \"Ce commentaire valorise explicitement le confort dans l'appartement\",\n",
    "    \"Ce commentaire valorise explicitement l'emplacement de l'appartement\",\n",
    "    \"Ce commentaire valorise explicitement le process de check-in check-out\",\n",
    "    \"Ce commentaire valorise explicitement le calme dans l'appartement\",\n",
    "    \"Ce commentaire valorise explicitement les équipements fournis dans l'appartement\",\n",
    "    \"Ce commentaire valorise explicitement l'interaction avec le staff\",\n",
    "    \"Ce commentaire valorise explicitement le rapport qualité / prix de l'appartement\",\n",
    "    \"Ce commentaire valorise explicitement la sécurité de l'appartement\",\n",
    "    \"Ce commentaire valorise explicitement le design / décoration de l'appartement\",\n",
    "    \"Ce commentaire valorise explicitement la luminosité au sein de l'appartement\",\n",
    "    \"Ce commentaire est négatif\",\n",
    "    \"Ce commentaire n'est pas très clair\"\n",
    "]\n",
    "\n",
    "neg_hypotheses = [\n",
    "    \"La propreté de l'appartement est explicitement critiquée.\",\n",
    "    \"L'appartement présente explicitement des problèmes d'odeurs.\",\n",
    "    \"Des problèmes de nuisance sonore sont explicitement mentionnés.\",\n",
    "    \"Des équipements de cuisine défectueux ou manquants sont explicitement mentionnés.\",\n",
    "    \"La communication ou la gestion du personnel est explicitement mentionnée.\",\n",
    "    \"Des problèmes liés à la plomberie ou à l'eau chaude sont explicitement mentionnés.\",\n",
    "    \"Le commentaire mentionne explicitement un problème avec la literie ou le nombre de lits.\",\n",
    "    \"Des problèmes concernant l'éclairage de l'appartement sont explicitement mentionnées.\",\n",
    "    \"Le caractère impersonnel ou l'automatisation excessive de l'appartement sont explicitement mentionnés.\",\n",
    "    \"L'appartement ne ressemble explicitement pas à sa représentation en ligne.\",\n",
    "    \"Des problèmes explicitement liés à la sécurité ou à l'accès de l'appartement sont mentionnés.\",\n",
    "    \"Des problèmes d'accessibilité sont explicitement mentionnés.\",\n",
    "    \"Des problèmes de communication avec le staff sont explicitement mentionnés.\",\n",
    "    \"Des problèmes de stationnement automobile sont explicitement mentionnés.\",\n",
    "    \"Le rapport qualité-prix est explicitement mentionné comme étant problématique.\",\n",
    "    \"Des problèmes spécifiques avec des équipements de l'appartement (hors cuisine) sont explicitement mentionnés.\"\n",
    "]"
   ]
  },
  {
   "cell_type": "code",
   "execution_count": 25,
   "id": "5976810f",
   "metadata": {},
   "outputs": [],
   "source": [
    "positive = pd.read_excel('positive reviews.xlsx').iloc[:,1:]\n",
    "positive.rename(columns={positive.columns[0]: 'review_text_positive'}, inplace=True)\n",
    "positive.drop_duplicates(inplace=True)\n",
    "pos_reviews = pd.merge(reviews, positive, on='review_text_positive', how='left')\n",
    "pos_classes = pos_reviews.columns.to_list()[15:]"
   ]
  },
  {
   "cell_type": "code",
   "execution_count": 26,
   "id": "5a12405c",
   "metadata": {},
   "outputs": [],
   "source": [
    "negative = pd.read_excel('negative reviews.xlsx').iloc[:,1:]\n",
    "negative.rename(columns={positive.columns[0]: 'review_text_negative'}, inplace=True)\n",
    "negative['review_text_negative'] = corpus\n",
    "negative.drop_duplicates(inplace=True)\n",
    "cols = negative.columns.to_list()\n",
    "ordered_cols = cols[-1:] + cols[:-1]\n",
    "negative = negative[ordered_cols]\n",
    "negative_reviews = pd.merge(reviews, negative, on='review_text_negative', how='left')\n",
    "neg_classes = negative_reviews.columns.to_list()[15:]"
   ]
  },
  {
   "cell_type": "code",
   "execution_count": 27,
   "id": "c7b604a2",
   "metadata": {},
   "outputs": [],
   "source": [
    "non_na_negative_reviews = negative_reviews[~negative_reviews[neg_classes].isna().all(axis=1)]"
   ]
  },
  {
   "cell_type": "code",
   "execution_count": 28,
   "id": "7004e630",
   "metadata": {},
   "outputs": [],
   "source": [
    "non_na_positive_reviews = pos_reviews[~pos_reviews[pos_classes].isna().all(axis=1)]"
   ]
  },
  {
   "cell_type": "code",
   "execution_count": 29,
   "id": "0609bc3e",
   "metadata": {},
   "outputs": [],
   "source": [
    "def get_rev_sum(res,pos):\n",
    "    if pos==True:\n",
    "        dd = non_na_positive_reviews\n",
    "        classes = pos_classes\n",
    "    else:\n",
    "        dd = non_na_negative_reviews\n",
    "        classes = neg_classes\n",
    "    res_df = dd.copy()\n",
    "    res_df = res_df[res_df['property_name']==res]\n",
    "    notes = res_df.copy()[classes]\n",
    "    notes.index = res_df.copy()['date']\n",
    "    daily_sum = notes.resample('D').sum().dropna()\n",
    "    smoothed = daily_sum.rolling(window=30).sum()\n",
    "    smoothed['residence'] = res\n",
    "    return smoothed"
   ]
  },
  {
   "cell_type": "code",
   "execution_count": 327,
   "id": "d7cb1cb8",
   "metadata": {},
   "outputs": [],
   "source": [
    "res = residences[0]"
   ]
  },
  {
   "cell_type": "code",
   "execution_count": 32,
   "id": "28bc0c65",
   "metadata": {},
   "outputs": [],
   "source": [
    "init_pos=pd.DataFrame()\n",
    "init_neg=pd.DataFrame()\n",
    "for res in residences:\n",
    "    init_pos = pd.concat([init_pos,get_rev_sum(res,pos=True)],axis=0)\n",
    "    init_neg = pd.concat([init_neg,get_rev_sum(res,pos=False)],axis=0)"
   ]
  },
  {
   "cell_type": "code",
   "execution_count": 33,
   "id": "e177eac9",
   "metadata": {},
   "outputs": [],
   "source": [
    "init_pos.to_excel('rollingsum_positive.xlsx')\n",
    "init_neg.to_excel('rollingsum_negative.xlsx')"
   ]
  },
  {
   "cell_type": "code",
   "execution_count": 175,
   "id": "13f4df75",
   "metadata": {},
   "outputs": [
    {
     "name": "stderr",
     "output_type": "stream",
     "text": [
      "Some weights of the model checkpoint at joeddav/xlm-roberta-large-xnli were not used when initializing XLMRobertaForSequenceClassification: ['roberta.pooler.dense.weight', 'roberta.pooler.dense.bias']\n",
      "- This IS expected if you are initializing XLMRobertaForSequenceClassification from the checkpoint of a model trained on another task or with another architecture (e.g. initializing a BertForSequenceClassification model from a BertForPreTraining model).\n",
      "- This IS NOT expected if you are initializing XLMRobertaForSequenceClassification from the checkpoint of a model that you expect to be exactly identical (initializing a BertForSequenceClassification model from a BertForSequenceClassification model).\n"
     ]
    }
   ],
   "source": [
    "from transformers import AutoModelForSequenceClassification, AutoTokenizer\n",
    "import torch\n",
    "\n",
    "model_name = \"joeddav/xlm-roberta-large-xnli\"\n",
    "access_token = \"XXXXXXXXXXXXXXXXXX\"\n",
    "\n",
    "device = torch.device(\"cuda\")\n",
    "nli_model = AutoModelForSequenceClassification.from_pretrained(model_name, use_auth_token=access_token).to(device)\n",
    "tokenizer = AutoTokenizer.from_pretrained(model_name, use_auth_token=access_token)\n",
    "\n",
    "def zero_shot_classification_xlm_roberta(sequence, hypotheses, device='cuda', threshold=0.95):\n",
    "    with torch.no_grad():\n",
    "        inputs = tokenizer([sequence] * len(hypotheses), hypotheses, return_tensors='pt', padding=True, truncation=True, max_length=512)\n",
    "        inputs = {key: val.to(device) for key, val in inputs.items()}\n",
    "        logits = nli_model(**inputs)[0]\n",
    "\n",
    "        entail_contradiction_logits = logits[:, [0, 2]]\n",
    "        probs = entail_contradiction_logits.softmax(dim=1)\n",
    "        probs_for_entailment = probs[:, 1].detach().cpu().numpy()  # Convert to numpy array\n",
    "\n",
    "        del inputs\n",
    "\n",
    "    filtered_results = {hypothesis: prob for hypothesis, prob in zip(hypotheses, probs_for_entailment) if prob > threshold}\n",
    "\n",
    "    return filtered_results"
   ]
  },
  {
   "cell_type": "code",
   "execution_count": 230,
   "id": "35ef08bf",
   "metadata": {},
   "outputs": [
    {
     "name": "stderr",
     "output_type": "stream",
     "text": [
      "100%|██████████| 13785/13785 [46:12<00:00,  4.97it/s] \n"
     ]
    }
   ],
   "source": [
    "results = []\n",
    "\n",
    "for description in tqdm(corpus[:]):\n",
    "    if len(description.split()) > 500: \n",
    "        continue\n",
    "    result = zero_shot_classification_xlm_roberta(description, neg_hypotheses)\n",
    "    results.append([description, result])\n",
    "    torch.cuda.empty_cache()"
   ]
  },
  {
   "cell_type": "code",
   "execution_count": null,
   "id": "1ff13319",
   "metadata": {},
   "outputs": [],
   "source": [
    "results"
   ]
  },
  {
   "cell_type": "code",
   "execution_count": 231,
   "id": "b2957e89",
   "metadata": {},
   "outputs": [
    {
     "data": {
      "text/html": [
       "<div>\n",
       "<style scoped>\n",
       "    .dataframe tbody tr th:only-of-type {\n",
       "        vertical-align: middle;\n",
       "    }\n",
       "\n",
       "    .dataframe tbody tr th {\n",
       "        vertical-align: top;\n",
       "    }\n",
       "\n",
       "    .dataframe thead th {\n",
       "        text-align: right;\n",
       "    }\n",
       "</style>\n",
       "<table border=\"1\" class=\"dataframe\">\n",
       "  <thead>\n",
       "    <tr style=\"text-align: right;\">\n",
       "      <th></th>\n",
       "      <th>Review</th>\n",
       "      <th>La propreté de l'appartement est explicitement critiquée.</th>\n",
       "      <th>L'appartement présente explicitement des problèmes d'odeurs.</th>\n",
       "      <th>Des problèmes de nuisance sonore sont explicitement mentionnés.</th>\n",
       "      <th>Des équipements de cuisine défectueux ou manquants sont explicitement mentionnés.</th>\n",
       "      <th>La communication ou la gestion du personnel est explicitement mentionnée.</th>\n",
       "      <th>Des problèmes liés à la plomberie ou à l'eau chaude sont explicitement mentionnés.</th>\n",
       "      <th>Le commentaire mentionne explicitement un problème avec la literie ou le nombre de lits.</th>\n",
       "      <th>Des problèmes concernant l'éclairage de l'appartement sont explicitement mentionnées.</th>\n",
       "      <th>Le caractère impersonnel ou l'automatisation excessive de l'appartement sont explicitement mentionnés.</th>\n",
       "      <th>L'appartement ne ressemble explicitement pas à sa représentation en ligne.</th>\n",
       "      <th>Des problèmes explicitement liés à la sécurité ou à l'accès de l'appartement sont mentionnés.</th>\n",
       "      <th>Des problèmes d'accessibilité sont explicitement mentionnés.</th>\n",
       "      <th>Des problèmes de communication avec le staff sont explicitement mentionnés.</th>\n",
       "      <th>Des problèmes de stationnement automobile sont explicitement mentionnés.</th>\n",
       "      <th>Le rapport qualité-prix est explicitement mentionné comme étant problématique.</th>\n",
       "      <th>Des problèmes spécifiques avec des équipements de l'appartement (hors cuisine) sont explicitement mentionnés.</th>\n",
       "    </tr>\n",
       "  </thead>\n",
       "  <tbody>\n",
       "    <tr>\n",
       "      <th>13780</th>\n",
       "      <td>De buurt is wat guur in de avond; veel zwerver...</td>\n",
       "      <td>0</td>\n",
       "      <td>0</td>\n",
       "      <td>1</td>\n",
       "      <td>0</td>\n",
       "      <td>0</td>\n",
       "      <td>0</td>\n",
       "      <td>0</td>\n",
       "      <td>1</td>\n",
       "      <td>0</td>\n",
       "      <td>0</td>\n",
       "      <td>0</td>\n",
       "      <td>0</td>\n",
       "      <td>0</td>\n",
       "      <td>0</td>\n",
       "      <td>0</td>\n",
       "      <td>0</td>\n",
       "    </tr>\n",
       "    <tr>\n",
       "      <th>13781</th>\n",
       "      <td>A fuir ! Seconde fois en 6 mois et le même con...</td>\n",
       "      <td>1</td>\n",
       "      <td>0</td>\n",
       "      <td>0</td>\n",
       "      <td>0</td>\n",
       "      <td>0</td>\n",
       "      <td>0</td>\n",
       "      <td>0</td>\n",
       "      <td>0</td>\n",
       "      <td>0</td>\n",
       "      <td>0</td>\n",
       "      <td>0</td>\n",
       "      <td>1</td>\n",
       "      <td>1</td>\n",
       "      <td>0</td>\n",
       "      <td>0</td>\n",
       "      <td>0</td>\n",
       "    </tr>\n",
       "    <tr>\n",
       "      <th>13782</th>\n",
       "      <td>Geen propere kamer, geen propere handdoeken. T...</td>\n",
       "      <td>1</td>\n",
       "      <td>1</td>\n",
       "      <td>1</td>\n",
       "      <td>1</td>\n",
       "      <td>0</td>\n",
       "      <td>0</td>\n",
       "      <td>0</td>\n",
       "      <td>1</td>\n",
       "      <td>0</td>\n",
       "      <td>1</td>\n",
       "      <td>0</td>\n",
       "      <td>0</td>\n",
       "      <td>0</td>\n",
       "      <td>0</td>\n",
       "      <td>1</td>\n",
       "      <td>1</td>\n",
       "    </tr>\n",
       "    <tr>\n",
       "      <th>13783</th>\n",
       "      <td>No hot water duing our stay for 5 days and whe...</td>\n",
       "      <td>1</td>\n",
       "      <td>1</td>\n",
       "      <td>1</td>\n",
       "      <td>0</td>\n",
       "      <td>0</td>\n",
       "      <td>0</td>\n",
       "      <td>0</td>\n",
       "      <td>1</td>\n",
       "      <td>0</td>\n",
       "      <td>0</td>\n",
       "      <td>0</td>\n",
       "      <td>1</td>\n",
       "      <td>1</td>\n",
       "      <td>0</td>\n",
       "      <td>1</td>\n",
       "      <td>0</td>\n",
       "    </tr>\n",
       "    <tr>\n",
       "      <th>13784</th>\n",
       "      <td>Pas d'eau chaude pour se doucher, pas de téléc...</td>\n",
       "      <td>1</td>\n",
       "      <td>0</td>\n",
       "      <td>0</td>\n",
       "      <td>1</td>\n",
       "      <td>0</td>\n",
       "      <td>1</td>\n",
       "      <td>0</td>\n",
       "      <td>0</td>\n",
       "      <td>0</td>\n",
       "      <td>1</td>\n",
       "      <td>0</td>\n",
       "      <td>1</td>\n",
       "      <td>0</td>\n",
       "      <td>0</td>\n",
       "      <td>0</td>\n",
       "      <td>1</td>\n",
       "    </tr>\n",
       "  </tbody>\n",
       "</table>\n",
       "</div>"
      ],
      "text/plain": [
       "                                                  Review  ...  Des problèmes spécifiques avec des équipements de l'appartement (hors cuisine) sont explicitement mentionnés.\n",
       "13780  De buurt is wat guur in de avond; veel zwerver...  ...                                                  0                                                            \n",
       "13781  A fuir ! Seconde fois en 6 mois et le même con...  ...                                                  0                                                            \n",
       "13782  Geen propere kamer, geen propere handdoeken. T...  ...                                                  1                                                            \n",
       "13783  No hot water duing our stay for 5 days and whe...  ...                                                  0                                                            \n",
       "13784  Pas d'eau chaude pour se doucher, pas de téléc...  ...                                                  1                                                            \n",
       "\n",
       "[5 rows x 17 columns]"
      ]
     },
     "execution_count": 231,
     "metadata": {},
     "output_type": "execute_result"
    }
   ],
   "source": [
    "import pandas as pd\n",
    "\n",
    "rows = []\n",
    "for review, classes in results:\n",
    "    row_data = {'Review': review}\n",
    "    row_data.update({label: 1 if label in classes else 0 for label in neg_hypotheses})\n",
    "    rows.append(row_data)\n",
    "\n",
    "df = pd.DataFrame(rows, columns=['Review'] + neg_hypotheses)\n",
    "df.tail()"
   ]
  },
  {
   "cell_type": "code",
   "execution_count": 232,
   "id": "89702c2e",
   "metadata": {},
   "outputs": [],
   "source": [
    "df.to_excel('negative reviews.xlsx')"
   ]
  },
  {
   "cell_type": "markdown",
   "id": "71c81a4c",
   "metadata": {},
   "source": [
    "    "
   ]
  },
  {
   "cell_type": "markdown",
   "id": "0d78af24",
   "metadata": {},
   "source": [
    "################################################################# LLM CLUSTERING ###################################################################"
   ]
  },
  {
   "cell_type": "markdown",
   "id": "9563154e",
   "metadata": {},
   "source": [
    "    "
   ]
  },
  {
   "cell_type": "code",
   "execution_count": null,
   "id": "7e2fc6af",
   "metadata": {},
   "outputs": [],
   "source": [
    "def get_elbow_curve(df, min_clusters, max_clusters):\n",
    "    inertia = np.array([])\n",
    "    silhouette= np.array([])\n",
    "    for k in tqdm(range(min_clusters, max_clusters)):\n",
    "        KM = KMeans(n_clusters=k, n_init=10, random_state=8).fit(df)\n",
    "        inertia = np.append(inertia, KM.inertia_)\n",
    "        silhouette = np.append(silhouette, silhouette_score(df, KM.labels_, metric='euclidean'))\n",
    "    plt.plot(range(min_clusters,max_clusters),inertia)\n",
    "    plt.show()\n",
    "    plt.plot(range(min_clusters,max_clusters),silhouette)\n",
    "    plt.show()\n",
    "    return inertia, silhouette\n",
    "\n",
    "def get_labels(df, n_clust):\n",
    "    cluster_labels = KMeans(n_clusters=n_clust, n_init=10, random_state = 8).fit(df)#.iloc[:,-lookback:])\n",
    "    print(f\"inertia : {silhouette_score(df, cluster_labels.labels_, metric='euclidean')}\")\n",
    "    cluster_labels = pd.Series(cluster_labels.labels_, index = df.index)\n",
    "    return cluster_labels\n",
    "\n",
    "def pca_transform(array, n_components):\n",
    "    pca = PCA(n_components = n_components)\n",
    "    pca.fit(array)\n",
    "    eig_val, eig_ratio = pca.explained_variance_, pca.explained_variance_ratio_\n",
    "    print(f\"Actual E.V. ratio : {np.round(eig_ratio.cumsum()[-1:][0]*100,2)}\")\n",
    "    return pca.transform(array)\n",
    "\n",
    "def get_labels(df, n_clust):\n",
    "    cluster_labels = KMeans(n_clusters=n_clust, n_init=10, random_state = 8).fit(df)\n",
    "    return cluster_labels.labels_"
   ]
  },
  {
   "cell_type": "code",
   "execution_count": 88,
   "id": "d82086bc",
   "metadata": {},
   "outputs": [
    {
     "name": "stdout",
     "output_type": "stream",
     "text": [
      "Actual E.V. ratio : 99.49\n"
     ]
    }
   ],
   "source": [
    "model = SentenceTransformer(r\"sentence-transformers/distiluse-base-multilingual-cased\", device='cuda')\n",
    "#'all-MiniLM-L6-v2'\n",
    "embeddings = model.encode(corpus)\n",
    "pca_embeddings = pca_transform(embeddings, 383)"
   ]
  },
  {
   "cell_type": "code",
   "execution_count": null,
   "id": "8670977e",
   "metadata": {},
   "outputs": [],
   "source": [
    "import matplotlib.pyplot as plt\n",
    "get_elbow_curve(pca_embeddings, 8, 25)"
   ]
  },
  {
   "cell_type": "code",
   "execution_count": 89,
   "id": "9d8b586a",
   "metadata": {},
   "outputs": [],
   "source": [
    "n_clusters = 21\n",
    "labels = get_labels(pca_embeddings,n_clusters)"
   ]
  },
  {
   "cell_type": "code",
   "execution_count": 90,
   "id": "7fd838be",
   "metadata": {},
   "outputs": [],
   "source": [
    "from sklearn.neighbors import NearestNeighbors\n",
    "def compute_embedding_centroids(embeddings, cluster_number):\n",
    "    return np.mean(embeddings[np.where(labels==cluster_number)],axis=0)"
   ]
  },
  {
   "cell_type": "code",
   "execution_count": 91,
   "id": "9128d380",
   "metadata": {},
   "outputs": [],
   "source": [
    "nn_model = NearestNeighbors(n_neighbors=5)\n",
    "nn_model.fit(embeddings);"
   ]
  },
  {
   "cell_type": "code",
   "execution_count": 92,
   "id": "26d98d74",
   "metadata": {},
   "outputs": [],
   "source": [
    "def get_nn(embeddings, n_clust):\n",
    "    centroid = compute_embedding_centroids(embeddings, n_clust)\n",
    "    dists, indexs = nn_model.kneighbors([centroid])\n",
    "    print(dists)\n",
    "    return np.array(corpus)[indexs.tolist()].tolist()"
   ]
  }
 ],
 "metadata": {
  "kernelspec": {
   "display_name": "Python 3 (Spyder)",
   "language": "python3",
   "name": "python3"
  },
  "language_info": {
   "codemirror_mode": {
    "name": "ipython",
    "version": 3
   },
   "file_extension": ".py",
   "mimetype": "text/x-python",
   "name": "python",
   "nbconvert_exporter": "python",
   "pygments_lexer": "ipython3",
   "version": "3.9.16"
  }
 },
 "nbformat": 4,
 "nbformat_minor": 5
}
